{
  "nbformat": 4,
  "nbformat_minor": 0,
  "metadata": {
    "colab": {
      "provenance": [],
      "authorship_tag": "ABX9TyO1bMLbx90c1/X2ll1pjj4A",
      "include_colab_link": true
    },
    "kernelspec": {
      "name": "python3",
      "display_name": "Python 3"
    },
    "language_info": {
      "name": "python"
    }
  },
  "cells": [
    {
      "cell_type": "markdown",
      "metadata": {
        "id": "view-in-github",
        "colab_type": "text"
      },
      "source": [
        "<a href=\"https://colab.research.google.com/github/YoshifumiMiyagi/PECARN-Group1-/blob/main/PECARN_Group_1_%E3%83%99%E3%83%BC%E3%82%B9%E3%83%A9%E3%82%A4%E3%83%B3%EF%BC%88keras).ipynb\" target=\"_parent\"><img src=\"https://colab.research.google.com/assets/colab-badge.svg\" alt=\"Open In Colab\"/></a>"
      ]
    },
    {
      "cell_type": "code",
      "execution_count": 98,
      "metadata": {
        "id": "qRstqydYAKjV"
      },
      "outputs": [],
      "source": [
        "# ライブラリのインポート\n",
        "import pandas as pd\n",
        "import numpy as np\n",
        "import matplotlib.pyplot as plt\n",
        "import seaborn as sns\n",
        "# CSVファイルを読み込む\n",
        "df = pd.read_csv('/content/TBI PUD 10-08-2013.csv')\n",
        "# 使用された説明変数とCTスキャンの必要性を示す目的変数をリストにする\n",
        "\n",
        "variables_of_interest = [\n",
        "    'AgeTwoPlus',         # 年齢\n",
        "    'High_impact_InjSev', # 外傷の重症度\n",
        "    'LOCSeparate',        # 意識喪失の履歴\n",
        "    'LocLen',             # 意識喪失の持続時間\n",
        "    'HA_verb',            # 頭痛の有無\n",
        "    'HASeverity',         # 頭痛の重症度\n",
        "    'Vomit',              # 嘔吐の履歴\n",
        "    'VomitNbr',           # 嘔吐の回数\n",
        "    'ActNorm',            # 保護者の観察\n",
        "    'GCSTotal',           # GCSスコア\n",
        "    'AMS',                # 精神状態の変化\n",
        "    'SFxBas',             # 基底頭蓋骨骨折の兆候\n",
        "    'SFxPalp',            # 触知可能な頭蓋骨骨折\n",
        "    'Hema',               # 頭皮血腫\n",
        "    'HemaLoc',            # 頭皮血腫の位置\n",
        "#    'HospHeadPosCT',      # 目的変数（CTスキャンと2日以上の入院の必要性）\n",
        "    'PosCT'               # 目的変数（CTスキャンの必要性）\n",
        "]\n",
        "# 説明変数と目的変数のみを抽出\n",
        "df_selected = df[variables_of_interest]"
      ]
    },
    {
      "cell_type": "code",
      "source": [
        "dat = df_selected[df_selected['PosCT'] != 92]\n",
        "from sklearn.impute import SimpleImputer\n",
        "imputer = SimpleImputer(strategy='most_frequent')\n",
        "df2 = pd.DataFrame(imputer.fit_transform(dat))\n",
        "df2.columns = dat.columns\n",
        "\n",
        "from sklearn.model_selection import train_test_split\n",
        "X, y = df2.iloc[:,:-1], df2.iloc[:,-1]\n",
        "x_train, x_test, y_train, y_test = train_test_split(X,y, test_size=0.20, random_state=42)"
      ],
      "metadata": {
        "id": "SaarrDLfAYS9"
      },
      "execution_count": 99,
      "outputs": []
    },
    {
      "cell_type": "markdown",
      "source": [
        "# Keras"
      ],
      "metadata": {
        "id": "kK-ld0j6Aas0"
      }
    },
    {
      "cell_type": "code",
      "source": [
        "import tensorflow as tf\n",
        "from tensorflow.keras.layers import Dense, Dropout, BatchNormalization, Activation\n",
        "from tensorflow.keras.models import Sequential\n",
        "from keras.callbacks import ModelCheckpoint"
      ],
      "metadata": {
        "id": "LF_VpUWRAbJH"
      },
      "execution_count": 100,
      "outputs": []
    },
    {
      "cell_type": "code",
      "source": [
        "modelCheckpoint = ModelCheckpoint(filepath = 'model_0.keras',\n",
        "                                  monitor='val_loss',\n",
        "                                  verbose=1,\n",
        "                                  save_best_only=True,\n",
        "                                  save_weights_only=False,\n",
        "                                  mode='min')"
      ],
      "metadata": {
        "id": "bX_UN6crAgZ1"
      },
      "execution_count": 101,
      "outputs": []
    },
    {
      "cell_type": "code",
      "source": [
        "from sklearn.preprocessing import MinMaxScaler\n",
        "scaler  = MinMaxScaler()\n",
        "x_train = scaler.fit_transform(x_train)\n",
        "x_test   = scaler.transform(x_test)"
      ],
      "metadata": {
        "id": "qy-YfjddAlP9"
      },
      "execution_count": 102,
      "outputs": []
    },
    {
      "cell_type": "code",
      "source": [
        "import os\n",
        "import random\n",
        "\n",
        "os.environ['PYTHONHASHSEED'] = '0'\n",
        "os.environ['TF_DETERMINISTIC_OPS'] = '1'\n",
        "\n",
        "np.random.seed(42)\n",
        "random.seed(42)\n",
        "tf.random.set_seed(42)"
      ],
      "metadata": {
        "id": "XpEG1rHaFKTi"
      },
      "execution_count": 103,
      "outputs": []
    },
    {
      "cell_type": "code",
      "source": [
        "model = tf.keras.Sequential(\n",
        "    [\n",
        "        tf.keras.layers.Dense(units=9, activation=\"relu\", input_shape=(x_train.shape[-1],) ),\n",
        "        tf.keras.layers.Dropout(0.3),\n",
        "        tf.keras.layers.Dense(units=9, activation=\"relu\"),\n",
        "        tf.keras.layers.Dense(units=1, activation=\"sigmoid\"),\n",
        "    ]\n",
        ")\n",
        "\n",
        "#initial_weights = model.get_weights()"
      ],
      "metadata": {
        "colab": {
          "base_uri": "https://localhost:8080/"
        },
        "id": "KhyHL4z_AoYU",
        "outputId": "7304cc27-123c-40cd-8bff-898989eb2882"
      },
      "execution_count": 104,
      "outputs": [
        {
          "output_type": "stream",
          "name": "stderr",
          "text": [
            "/usr/local/lib/python3.10/dist-packages/keras/src/layers/core/dense.py:87: UserWarning: Do not pass an `input_shape`/`input_dim` argument to a layer. When using Sequential models, prefer using an `Input(shape)` object as the first layer in the model instead.\n",
            "  super().__init__(activity_regularizer=activity_regularizer, **kwargs)\n"
          ]
        }
      ]
    },
    {
      "cell_type": "code",
      "source": [
        "model.summary()"
      ],
      "metadata": {
        "colab": {
          "base_uri": "https://localhost:8080/",
          "height": 257
        },
        "id": "zr8u_-xnAqMM",
        "outputId": "eeed27e7-9195-4f38-99be-d5459d5ca309"
      },
      "execution_count": 105,
      "outputs": [
        {
          "output_type": "display_data",
          "data": {
            "text/plain": [
              "\u001b[1mModel: \"sequential_9\"\u001b[0m\n"
            ],
            "text/html": [
              "<pre style=\"white-space:pre;overflow-x:auto;line-height:normal;font-family:Menlo,'DejaVu Sans Mono',consolas,'Courier New',monospace\"><span style=\"font-weight: bold\">Model: \"sequential_9\"</span>\n",
              "</pre>\n"
            ]
          },
          "metadata": {}
        },
        {
          "output_type": "display_data",
          "data": {
            "text/plain": [
              "┏━━━━━━━━━━━━━━━━━━━━━━━━━━━━━━━━━━━━━━┳━━━━━━━━━━━━━━━━━━━━━━━━━━━━━┳━━━━━━━━━━━━━━━━━┓\n",
              "┃\u001b[1m \u001b[0m\u001b[1mLayer (type)                        \u001b[0m\u001b[1m \u001b[0m┃\u001b[1m \u001b[0m\u001b[1mOutput Shape               \u001b[0m\u001b[1m \u001b[0m┃\u001b[1m \u001b[0m\u001b[1m        Param #\u001b[0m\u001b[1m \u001b[0m┃\n",
              "┡━━━━━━━━━━━━━━━━━━━━━━━━━━━━━━━━━━━━━━╇━━━━━━━━━━━━━━━━━━━━━━━━━━━━━╇━━━━━━━━━━━━━━━━━┩\n",
              "│ dense_27 (\u001b[38;5;33mDense\u001b[0m)                     │ (\u001b[38;5;45mNone\u001b[0m, \u001b[38;5;34m9\u001b[0m)                   │             \u001b[38;5;34m144\u001b[0m │\n",
              "├──────────────────────────────────────┼─────────────────────────────┼─────────────────┤\n",
              "│ dropout_9 (\u001b[38;5;33mDropout\u001b[0m)                  │ (\u001b[38;5;45mNone\u001b[0m, \u001b[38;5;34m9\u001b[0m)                   │               \u001b[38;5;34m0\u001b[0m │\n",
              "├──────────────────────────────────────┼─────────────────────────────┼─────────────────┤\n",
              "│ dense_28 (\u001b[38;5;33mDense\u001b[0m)                     │ (\u001b[38;5;45mNone\u001b[0m, \u001b[38;5;34m9\u001b[0m)                   │              \u001b[38;5;34m90\u001b[0m │\n",
              "├──────────────────────────────────────┼─────────────────────────────┼─────────────────┤\n",
              "│ dense_29 (\u001b[38;5;33mDense\u001b[0m)                     │ (\u001b[38;5;45mNone\u001b[0m, \u001b[38;5;34m1\u001b[0m)                   │              \u001b[38;5;34m10\u001b[0m │\n",
              "└──────────────────────────────────────┴─────────────────────────────┴─────────────────┘\n"
            ],
            "text/html": [
              "<pre style=\"white-space:pre;overflow-x:auto;line-height:normal;font-family:Menlo,'DejaVu Sans Mono',consolas,'Courier New',monospace\">┏━━━━━━━━━━━━━━━━━━━━━━━━━━━━━━━━━━━━━━┳━━━━━━━━━━━━━━━━━━━━━━━━━━━━━┳━━━━━━━━━━━━━━━━━┓\n",
              "┃<span style=\"font-weight: bold\"> Layer (type)                         </span>┃<span style=\"font-weight: bold\"> Output Shape                </span>┃<span style=\"font-weight: bold\">         Param # </span>┃\n",
              "┡━━━━━━━━━━━━━━━━━━━━━━━━━━━━━━━━━━━━━━╇━━━━━━━━━━━━━━━━━━━━━━━━━━━━━╇━━━━━━━━━━━━━━━━━┩\n",
              "│ dense_27 (<span style=\"color: #0087ff; text-decoration-color: #0087ff\">Dense</span>)                     │ (<span style=\"color: #00d7ff; text-decoration-color: #00d7ff\">None</span>, <span style=\"color: #00af00; text-decoration-color: #00af00\">9</span>)                   │             <span style=\"color: #00af00; text-decoration-color: #00af00\">144</span> │\n",
              "├──────────────────────────────────────┼─────────────────────────────┼─────────────────┤\n",
              "│ dropout_9 (<span style=\"color: #0087ff; text-decoration-color: #0087ff\">Dropout</span>)                  │ (<span style=\"color: #00d7ff; text-decoration-color: #00d7ff\">None</span>, <span style=\"color: #00af00; text-decoration-color: #00af00\">9</span>)                   │               <span style=\"color: #00af00; text-decoration-color: #00af00\">0</span> │\n",
              "├──────────────────────────────────────┼─────────────────────────────┼─────────────────┤\n",
              "│ dense_28 (<span style=\"color: #0087ff; text-decoration-color: #0087ff\">Dense</span>)                     │ (<span style=\"color: #00d7ff; text-decoration-color: #00d7ff\">None</span>, <span style=\"color: #00af00; text-decoration-color: #00af00\">9</span>)                   │              <span style=\"color: #00af00; text-decoration-color: #00af00\">90</span> │\n",
              "├──────────────────────────────────────┼─────────────────────────────┼─────────────────┤\n",
              "│ dense_29 (<span style=\"color: #0087ff; text-decoration-color: #0087ff\">Dense</span>)                     │ (<span style=\"color: #00d7ff; text-decoration-color: #00d7ff\">None</span>, <span style=\"color: #00af00; text-decoration-color: #00af00\">1</span>)                   │              <span style=\"color: #00af00; text-decoration-color: #00af00\">10</span> │\n",
              "└──────────────────────────────────────┴─────────────────────────────┴─────────────────┘\n",
              "</pre>\n"
            ]
          },
          "metadata": {}
        },
        {
          "output_type": "display_data",
          "data": {
            "text/plain": [
              "\u001b[1m Total params: \u001b[0m\u001b[38;5;34m244\u001b[0m (976.00 B)\n"
            ],
            "text/html": [
              "<pre style=\"white-space:pre;overflow-x:auto;line-height:normal;font-family:Menlo,'DejaVu Sans Mono',consolas,'Courier New',monospace\"><span style=\"font-weight: bold\"> Total params: </span><span style=\"color: #00af00; text-decoration-color: #00af00\">244</span> (976.00 B)\n",
              "</pre>\n"
            ]
          },
          "metadata": {}
        },
        {
          "output_type": "display_data",
          "data": {
            "text/plain": [
              "\u001b[1m Trainable params: \u001b[0m\u001b[38;5;34m244\u001b[0m (976.00 B)\n"
            ],
            "text/html": [
              "<pre style=\"white-space:pre;overflow-x:auto;line-height:normal;font-family:Menlo,'DejaVu Sans Mono',consolas,'Courier New',monospace\"><span style=\"font-weight: bold\"> Trainable params: </span><span style=\"color: #00af00; text-decoration-color: #00af00\">244</span> (976.00 B)\n",
              "</pre>\n"
            ]
          },
          "metadata": {}
        },
        {
          "output_type": "display_data",
          "data": {
            "text/plain": [
              "\u001b[1m Non-trainable params: \u001b[0m\u001b[38;5;34m0\u001b[0m (0.00 B)\n"
            ],
            "text/html": [
              "<pre style=\"white-space:pre;overflow-x:auto;line-height:normal;font-family:Menlo,'DejaVu Sans Mono',consolas,'Courier New',monospace\"><span style=\"font-weight: bold\"> Non-trainable params: </span><span style=\"color: #00af00; text-decoration-color: #00af00\">0</span> (0.00 B)\n",
              "</pre>\n"
            ]
          },
          "metadata": {}
        }
      ]
    },
    {
      "cell_type": "code",
      "source": [
        "learning_rate = 0.001\n",
        "\n",
        "model.compile(optimizer=tf.keras.optimizers.Adam(learning_rate=learning_rate),\n",
        "              loss=\"binary_crossentropy\",\n",
        "              metrics=['auc']\n",
        "             )"
      ],
      "metadata": {
        "id": "ZRzmsgxOAs6l"
      },
      "execution_count": 106,
      "outputs": []
    },
    {
      "cell_type": "code",
      "source": [
        "history = model.fit(x_train, y_train,\n",
        "          epochs=100,\n",
        "          batch_size=100,\n",
        "          validation_data=(x_test, y_test),\n",
        "          callbacks=[modelCheckpoint],\n",
        "          verbose=-1)"
      ],
      "metadata": {
        "colab": {
          "base_uri": "https://localhost:8080/"
        },
        "id": "CuULG3HpAvWU",
        "outputId": "de08909c-c742-4014-f8d2-a0c083966eca"
      },
      "execution_count": 107,
      "outputs": [
        {
          "output_type": "stream",
          "name": "stdout",
          "text": [
            "Epoch 1/100\n",
            "\n",
            "Epoch 1: val_loss improved from inf to 0.48834, saving model to model_0.keras\n",
            "Epoch 2/100\n",
            "\n",
            "Epoch 2: val_loss improved from 0.48834 to 0.26311, saving model to model_0.keras\n",
            "Epoch 3/100\n",
            "\n",
            "Epoch 3: val_loss improved from 0.26311 to 0.25061, saving model to model_0.keras\n",
            "Epoch 4/100\n",
            "\n",
            "Epoch 4: val_loss improved from 0.25061 to 0.24125, saving model to model_0.keras\n",
            "Epoch 5/100\n",
            "\n",
            "Epoch 5: val_loss improved from 0.24125 to 0.23363, saving model to model_0.keras\n",
            "Epoch 6/100\n",
            "\n",
            "Epoch 6: val_loss improved from 0.23363 to 0.22860, saving model to model_0.keras\n",
            "Epoch 7/100\n",
            "\n",
            "Epoch 7: val_loss improved from 0.22860 to 0.22531, saving model to model_0.keras\n",
            "Epoch 8/100\n",
            "\n",
            "Epoch 8: val_loss improved from 0.22531 to 0.22315, saving model to model_0.keras\n",
            "Epoch 9/100\n",
            "\n",
            "Epoch 9: val_loss improved from 0.22315 to 0.22151, saving model to model_0.keras\n",
            "Epoch 10/100\n",
            "\n",
            "Epoch 10: val_loss improved from 0.22151 to 0.22044, saving model to model_0.keras\n",
            "Epoch 11/100\n",
            "\n",
            "Epoch 11: val_loss improved from 0.22044 to 0.21924, saving model to model_0.keras\n",
            "Epoch 12/100\n",
            "\n",
            "Epoch 12: val_loss improved from 0.21924 to 0.21866, saving model to model_0.keras\n",
            "Epoch 13/100\n",
            "\n",
            "Epoch 13: val_loss improved from 0.21866 to 0.21798, saving model to model_0.keras\n",
            "Epoch 14/100\n",
            "\n",
            "Epoch 14: val_loss improved from 0.21798 to 0.21742, saving model to model_0.keras\n",
            "Epoch 15/100\n",
            "\n",
            "Epoch 15: val_loss improved from 0.21742 to 0.21696, saving model to model_0.keras\n",
            "Epoch 16/100\n",
            "\n",
            "Epoch 16: val_loss improved from 0.21696 to 0.21649, saving model to model_0.keras\n",
            "Epoch 17/100\n",
            "\n",
            "Epoch 17: val_loss improved from 0.21649 to 0.21618, saving model to model_0.keras\n",
            "Epoch 18/100\n",
            "\n",
            "Epoch 18: val_loss improved from 0.21618 to 0.21606, saving model to model_0.keras\n",
            "Epoch 19/100\n",
            "\n",
            "Epoch 19: val_loss improved from 0.21606 to 0.21543, saving model to model_0.keras\n",
            "Epoch 20/100\n",
            "\n",
            "Epoch 20: val_loss improved from 0.21543 to 0.21533, saving model to model_0.keras\n",
            "Epoch 21/100\n",
            "\n",
            "Epoch 21: val_loss improved from 0.21533 to 0.21506, saving model to model_0.keras\n",
            "Epoch 22/100\n",
            "\n",
            "Epoch 22: val_loss improved from 0.21506 to 0.21476, saving model to model_0.keras\n",
            "Epoch 23/100\n",
            "\n",
            "Epoch 23: val_loss improved from 0.21476 to 0.21409, saving model to model_0.keras\n",
            "Epoch 24/100\n",
            "\n",
            "Epoch 24: val_loss improved from 0.21409 to 0.21383, saving model to model_0.keras\n",
            "Epoch 25/100\n",
            "\n",
            "Epoch 25: val_loss improved from 0.21383 to 0.21346, saving model to model_0.keras\n",
            "Epoch 26/100\n",
            "\n",
            "Epoch 26: val_loss improved from 0.21346 to 0.21325, saving model to model_0.keras\n",
            "Epoch 27/100\n",
            "\n",
            "Epoch 27: val_loss improved from 0.21325 to 0.21310, saving model to model_0.keras\n",
            "Epoch 28/100\n",
            "\n",
            "Epoch 28: val_loss improved from 0.21310 to 0.21286, saving model to model_0.keras\n",
            "Epoch 29/100\n",
            "\n",
            "Epoch 29: val_loss improved from 0.21286 to 0.21272, saving model to model_0.keras\n",
            "Epoch 30/100\n",
            "\n",
            "Epoch 30: val_loss improved from 0.21272 to 0.21225, saving model to model_0.keras\n",
            "Epoch 31/100\n",
            "\n",
            "Epoch 31: val_loss improved from 0.21225 to 0.21184, saving model to model_0.keras\n",
            "Epoch 32/100\n",
            "\n",
            "Epoch 32: val_loss improved from 0.21184 to 0.21150, saving model to model_0.keras\n",
            "Epoch 33/100\n",
            "\n",
            "Epoch 33: val_loss improved from 0.21150 to 0.21117, saving model to model_0.keras\n",
            "Epoch 34/100\n",
            "\n",
            "Epoch 34: val_loss improved from 0.21117 to 0.21090, saving model to model_0.keras\n",
            "Epoch 35/100\n",
            "\n",
            "Epoch 35: val_loss improved from 0.21090 to 0.21070, saving model to model_0.keras\n",
            "Epoch 36/100\n",
            "\n",
            "Epoch 36: val_loss improved from 0.21070 to 0.21037, saving model to model_0.keras\n",
            "Epoch 37/100\n",
            "\n",
            "Epoch 37: val_loss improved from 0.21037 to 0.21007, saving model to model_0.keras\n",
            "Epoch 38/100\n",
            "\n",
            "Epoch 38: val_loss improved from 0.21007 to 0.20978, saving model to model_0.keras\n",
            "Epoch 39/100\n",
            "\n",
            "Epoch 39: val_loss improved from 0.20978 to 0.20967, saving model to model_0.keras\n",
            "Epoch 40/100\n",
            "\n",
            "Epoch 40: val_loss improved from 0.20967 to 0.20945, saving model to model_0.keras\n",
            "Epoch 41/100\n",
            "\n",
            "Epoch 41: val_loss improved from 0.20945 to 0.20937, saving model to model_0.keras\n",
            "Epoch 42/100\n",
            "\n",
            "Epoch 42: val_loss improved from 0.20937 to 0.20911, saving model to model_0.keras\n",
            "Epoch 43/100\n",
            "\n",
            "Epoch 43: val_loss improved from 0.20911 to 0.20883, saving model to model_0.keras\n",
            "Epoch 44/100\n",
            "\n",
            "Epoch 44: val_loss improved from 0.20883 to 0.20860, saving model to model_0.keras\n",
            "Epoch 45/100\n",
            "\n",
            "Epoch 45: val_loss improved from 0.20860 to 0.20854, saving model to model_0.keras\n",
            "Epoch 46/100\n",
            "\n",
            "Epoch 46: val_loss did not improve from 0.20854\n",
            "Epoch 47/100\n",
            "\n",
            "Epoch 47: val_loss improved from 0.20854 to 0.20850, saving model to model_0.keras\n",
            "Epoch 48/100\n",
            "\n",
            "Epoch 48: val_loss improved from 0.20850 to 0.20833, saving model to model_0.keras\n",
            "Epoch 49/100\n",
            "\n",
            "Epoch 49: val_loss improved from 0.20833 to 0.20827, saving model to model_0.keras\n",
            "Epoch 50/100\n",
            "\n",
            "Epoch 50: val_loss did not improve from 0.20827\n",
            "Epoch 51/100\n",
            "\n",
            "Epoch 51: val_loss improved from 0.20827 to 0.20792, saving model to model_0.keras\n",
            "Epoch 52/100\n",
            "\n",
            "Epoch 52: val_loss improved from 0.20792 to 0.20775, saving model to model_0.keras\n",
            "Epoch 53/100\n",
            "\n",
            "Epoch 53: val_loss did not improve from 0.20775\n",
            "Epoch 54/100\n",
            "\n",
            "Epoch 54: val_loss did not improve from 0.20775\n",
            "Epoch 55/100\n",
            "\n",
            "Epoch 55: val_loss did not improve from 0.20775\n",
            "Epoch 56/100\n",
            "\n",
            "Epoch 56: val_loss improved from 0.20775 to 0.20734, saving model to model_0.keras\n",
            "Epoch 57/100\n",
            "\n",
            "Epoch 57: val_loss did not improve from 0.20734\n",
            "Epoch 58/100\n",
            "\n",
            "Epoch 58: val_loss did not improve from 0.20734\n",
            "Epoch 59/100\n",
            "\n",
            "Epoch 59: val_loss did not improve from 0.20734\n",
            "Epoch 60/100\n",
            "\n",
            "Epoch 60: val_loss improved from 0.20734 to 0.20716, saving model to model_0.keras\n",
            "Epoch 61/100\n",
            "\n",
            "Epoch 61: val_loss improved from 0.20716 to 0.20712, saving model to model_0.keras\n",
            "Epoch 62/100\n",
            "\n",
            "Epoch 62: val_loss did not improve from 0.20712\n",
            "Epoch 63/100\n",
            "\n",
            "Epoch 63: val_loss did not improve from 0.20712\n",
            "Epoch 64/100\n",
            "\n",
            "Epoch 64: val_loss did not improve from 0.20712\n",
            "Epoch 65/100\n",
            "\n",
            "Epoch 65: val_loss improved from 0.20712 to 0.20710, saving model to model_0.keras\n",
            "Epoch 66/100\n",
            "\n",
            "Epoch 66: val_loss did not improve from 0.20710\n",
            "Epoch 67/100\n",
            "\n",
            "Epoch 67: val_loss improved from 0.20710 to 0.20691, saving model to model_0.keras\n",
            "Epoch 68/100\n",
            "\n",
            "Epoch 68: val_loss improved from 0.20691 to 0.20686, saving model to model_0.keras\n",
            "Epoch 69/100\n",
            "\n",
            "Epoch 69: val_loss improved from 0.20686 to 0.20684, saving model to model_0.keras\n",
            "Epoch 70/100\n",
            "\n",
            "Epoch 70: val_loss did not improve from 0.20684\n",
            "Epoch 71/100\n",
            "\n",
            "Epoch 71: val_loss did not improve from 0.20684\n",
            "Epoch 72/100\n",
            "\n",
            "Epoch 72: val_loss did not improve from 0.20684\n",
            "Epoch 73/100\n",
            "\n",
            "Epoch 73: val_loss did not improve from 0.20684\n",
            "Epoch 74/100\n",
            "\n",
            "Epoch 74: val_loss did not improve from 0.20684\n",
            "Epoch 75/100\n",
            "\n",
            "Epoch 75: val_loss did not improve from 0.20684\n",
            "Epoch 76/100\n",
            "\n",
            "Epoch 76: val_loss did not improve from 0.20684\n",
            "Epoch 77/100\n",
            "\n",
            "Epoch 77: val_loss did not improve from 0.20684\n",
            "Epoch 78/100\n",
            "\n",
            "Epoch 78: val_loss improved from 0.20684 to 0.20679, saving model to model_0.keras\n",
            "Epoch 79/100\n",
            "\n",
            "Epoch 79: val_loss did not improve from 0.20679\n",
            "Epoch 80/100\n",
            "\n",
            "Epoch 80: val_loss improved from 0.20679 to 0.20671, saving model to model_0.keras\n",
            "Epoch 81/100\n",
            "\n",
            "Epoch 81: val_loss did not improve from 0.20671\n",
            "Epoch 82/100\n",
            "\n",
            "Epoch 82: val_loss did not improve from 0.20671\n",
            "Epoch 83/100\n",
            "\n",
            "Epoch 83: val_loss did not improve from 0.20671\n",
            "Epoch 84/100\n",
            "\n",
            "Epoch 84: val_loss did not improve from 0.20671\n",
            "Epoch 85/100\n",
            "\n",
            "Epoch 85: val_loss did not improve from 0.20671\n",
            "Epoch 86/100\n",
            "\n",
            "Epoch 86: val_loss did not improve from 0.20671\n",
            "Epoch 87/100\n",
            "\n",
            "Epoch 87: val_loss did not improve from 0.20671\n",
            "Epoch 88/100\n",
            "\n",
            "Epoch 88: val_loss did not improve from 0.20671\n",
            "Epoch 89/100\n",
            "\n",
            "Epoch 89: val_loss did not improve from 0.20671\n",
            "Epoch 90/100\n",
            "\n",
            "Epoch 90: val_loss did not improve from 0.20671\n",
            "Epoch 91/100\n",
            "\n",
            "Epoch 91: val_loss did not improve from 0.20671\n",
            "Epoch 92/100\n",
            "\n",
            "Epoch 92: val_loss did not improve from 0.20671\n",
            "Epoch 93/100\n",
            "\n",
            "Epoch 93: val_loss did not improve from 0.20671\n",
            "Epoch 94/100\n",
            "\n",
            "Epoch 94: val_loss did not improve from 0.20671\n",
            "Epoch 95/100\n",
            "\n",
            "Epoch 95: val_loss did not improve from 0.20671\n",
            "Epoch 96/100\n",
            "\n",
            "Epoch 96: val_loss did not improve from 0.20671\n",
            "Epoch 97/100\n",
            "\n",
            "Epoch 97: val_loss did not improve from 0.20671\n",
            "Epoch 98/100\n",
            "\n",
            "Epoch 98: val_loss did not improve from 0.20671\n",
            "Epoch 99/100\n",
            "\n",
            "Epoch 99: val_loss did not improve from 0.20671\n",
            "Epoch 100/100\n",
            "\n",
            "Epoch 100: val_loss did not improve from 0.20671\n"
          ]
        }
      ]
    },
    {
      "cell_type": "code",
      "source": [
        "logs = pd.DataFrame(history.history)\n",
        "\n",
        "plt.figure(figsize=(14, 4))\n",
        "plt.subplot(1, 2, 1)\n",
        "plt.plot(logs.loc[5:,\"loss\"], lw=2, label='training loss')\n",
        "plt.plot(logs.loc[5:,\"val_loss\"], lw=2, label='validation loss')\n",
        "plt.xlabel(\"Epoch\")\n",
        "plt.ylabel(\"Loss\")\n",
        "plt.legend()\n",
        "plt.subplot(1, 2, 2)\n",
        "plt.plot(logs.loc[5:,\"auc\"], lw=2, label='training ROC AUC score')\n",
        "plt.plot(logs.loc[5:,\"val_auc\"], lw=2, label='validation ROC AUC score')\n",
        "plt.xlabel(\"Epoch\")\n",
        "plt.ylabel(\"ROC AUC\")\n",
        "plt.legend(loc='lower right')\n",
        "plt.show()"
      ],
      "metadata": {
        "colab": {
          "base_uri": "https://localhost:8080/",
          "height": 393
        },
        "id": "kJgSUGHQAxMt",
        "outputId": "9978f42d-d337-42ee-f457-8745760986dd"
      },
      "execution_count": 108,
      "outputs": [
        {
          "output_type": "display_data",
          "data": {
            "text/plain": [
              "<Figure size 1400x400 with 2 Axes>"
            ],
            "image/png": "[encoded data removed]"
          },
          "metadata": {}
        }
      ]
    },
    {
      "cell_type": "code",
      "source": [
        "from sklearn.metrics import roc_auc_score, confusion_matrix\n",
        "\n",
        "# テストデータでの予測\n",
        "model = tf.keras.models.load_model('/content/model_0.keras')\n",
        "y_pred_prob = model.predict(x_test)\n",
        "\n",
        "# 予測値を二値化 (閾値は0.1)\n",
        "y_pred = (y_pred_prob > 0.1).astype(int)\n",
        "\n",
        "# AUCの計算\n",
        "auc = roc_auc_score(y_test, y_pred_prob)\n",
        "print(f\"AUC: {auc}\")\n",
        "\n",
        "# 混同行列の計算\n",
        "tn, fp, fn, tp = confusion_matrix(y_test, y_pred).ravel()\n",
        "\n",
        "# 感度 (Recall) の計算\n",
        "sensitivity = tp / (tp + fn)\n",
        "print(f\"感度 (Recall): {sensitivity}\")\n",
        "\n",
        "# 特異度 (Specificity) の計算\n",
        "specificity = tn / (tn + fp)\n",
        "print(f\"特異度 (Specificity): {specificity}\")"
      ],
      "metadata": {
        "colab": {
          "base_uri": "https://localhost:8080/"
        },
        "id": "TwjZRt3uAz31",
        "outputId": "014bef4c-0f5a-4a96-982f-ebcf7707d0b3"
      },
      "execution_count": 109,
      "outputs": [
        {
          "output_type": "stream",
          "name": "stdout",
          "text": [
            "\u001b[1m100/100\u001b[0m \u001b[32m━━━━━━━━━━━━━━━━━━━━\u001b[0m\u001b[37m\u001b[0m \u001b[1m0s\u001b[0m 1ms/step\n",
            "AUC: 0.8120132645541636\n",
            "感度 (Recall): 0.6565217391304348\n",
            "特異度 (Specificity): 0.8166101694915254\n"
          ]
        }
      ]
    },
    {
      "cell_type": "code",
      "source": [
        "sns.heatmap(confusion_matrix(y_test, y_pred), annot=True, fmt='d', cmap='Blues')\n",
        "plt.title('Confusion Matrix')\n",
        "plt.xlabel('Predicted')\n",
        "plt.ylabel('True')\n",
        "plt.show()"
      ],
      "metadata": {
        "colab": {
          "base_uri": "https://localhost:8080/",
          "height": 472
        },
        "id": "KWh5LKwrA280",
        "outputId": "73013f4c-5e20-4a2d-b9e8-09352788b7f1"
      },
      "execution_count": 110,
      "outputs": [
        {
          "output_type": "display_data",
          "data": {
            "text/plain": [
              "<Figure size 640x480 with 2 Axes>"
            ],
            "image/png": "[encoded data removed]"
          },
          "metadata": {}
        }
      ]
    }
  ]
}